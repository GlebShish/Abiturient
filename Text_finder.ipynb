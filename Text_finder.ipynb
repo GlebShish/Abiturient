{
 "cells": [
  {
   "cell_type": "code",
   "execution_count": 240,
   "metadata": {
    "collapsed": true
   },
   "outputs": [],
   "source": [
    "#https://github.com/brandomr/document_cluster/blob/master/cluster_analysis.ipynb\n",
    "#http://brandonrose.org/clustering\n",
    "\n",
    "import numpy as np\n",
    "import pandas as pd\n",
    "import nltk\n",
    "from bs4 import BeautifulSoup\n",
    "import re\n",
    "import os\n",
    "import codecs\n",
    "from sklearn import feature_extraction\n",
    "import mpld3"
   ]
  },
  {
   "cell_type": "code",
   "execution_count": 369,
   "metadata": {},
   "outputs": [
    {
     "name": "stdout",
     "output_type": "stream",
     "text": [
      "1 IP_synopses\n",
      "1 IP_vocabulary\n",
      "['\\ufeff привет, как Дела?\\nпока\\n']\n",
      "['\\ufeff пока\\nпривет\\nпроблема\\n\\n\\n\\n\\n']\n"
     ]
    }
   ],
   "source": [
    "#import three lists: titles, links and wikipedia synopses\n",
    "\n",
    "# ВАЖНО!!! кодировка файлов 'utf-8'. В первой строке первым символом ОБЯЗАТЕЛЬНО должен быть пробел\n",
    "# я хз почему так, но иначе работает криво\n",
    "\n",
    "IP_synopses = open('привет.txt', encoding='utf-8').read().split('\\n BREAKS HERE')\n",
    "IP_vocabulary = open('vocabulary.txt',encoding='utf-8').read().split('\\n BREAKS HERE')\n",
    "\n",
    "\n",
    "print(str(len(IP_synopses)) + ' IP_synopses')\n",
    "print(str(len(IP_vocabulary)) + ' IP_vocabulary')\n",
    "\n",
    "synopses = []\n",
    "vocabulary = []\n",
    "\n",
    "for i in range(len(IP_synopses)):\n",
    "    item = IP_synopses[i]\n",
    "    synopses.append(item)\n",
    "\n",
    "print (synopses)\n",
    "\n",
    "for i in range(len(IP_vocabulary)):\n",
    "    item = IP_vocabulary[i]\n",
    "    vocabulary.append(item)\n",
    "    \n",
    "print (vocabulary)"
   ]
  },
  {
   "cell_type": "code",
   "execution_count": 370,
   "metadata": {
    "collapsed": true
   },
   "outputs": [],
   "source": [
    "# load nltk's English stopwords as variable called 'stopwords'\n",
    "stopwords = nltk.corpus.stopwords.words('russian')"
   ]
  },
  {
   "cell_type": "code",
   "execution_count": 371,
   "metadata": {
    "collapsed": true
   },
   "outputs": [],
   "source": [
    "# load nltk's SnowballStemmer as variabled 'stemmer'\n",
    "from nltk.stem.snowball import SnowballStemmer\n",
    "stemmer = SnowballStemmer(\"russian\")"
   ]
  },
  {
   "cell_type": "code",
   "execution_count": 372,
   "metadata": {},
   "outputs": [],
   "source": [
    "# here I define a tokenizer and stemmer which returns the set of stems in the text that it is passed\n",
    "\n",
    "def tokenize_and_stem(text):\n",
    "    # first tokenize by sentence, then by word to ensure that punctuation is caught as it's own token\n",
    "    tokens = [word for sent in nltk.sent_tokenize(text) for word in nltk.word_tokenize(sent)]\n",
    "    # filter out any tokens not containing letters (e.g., numeric tokens, raw punctuation)\n",
    "    filtered_tokens = []\n",
    "    for token in tokens:\n",
    "        if re.search('[а-яА-Я]', token):\n",
    "            filtered_tokens.append(token)\n",
    "    stems = [stemmer.stem(t) for t in filtered_tokens]\n",
    "    return stems\n",
    "\n",
    "\n",
    "def tokenize_only(text):\n",
    "    # first tokenize by sentence, then by word to ensure that punctuation is caught as it's own token\n",
    "    tokens = [word.lower() for sent in nltk.sent_tokenize(text) for word in nltk.word_tokenize(sent)]\n",
    "    # filter out any tokens not containing letters (e.g., numeric tokens, raw punctuation)\n",
    "    filtered_tokens = []\n",
    "    for token in tokens:\n",
    "        if re.search('[а-яА-Я]', token):\n",
    "            filtered_tokens.append(token)\n",
    "            \n",
    "    return filtered_tokens\n",
    "\n",
    "#Below I use my stemming/tokenizing and tokenizing functions to iterate over the list of synopses to create two vocabularies: one stemmed and one only tokenized.\n",
    "totalsynop_stemmed = []\n",
    "totalsynop_tokenized = []\n",
    "for i in synopses:\n",
    "    allwords_stemmed = tokenize_and_stem(i)\n",
    "    totalsynop_stemmed.extend(allwords_stemmed)\n",
    "    \n",
    "    allwords_tokenized = tokenize_only(i)\n",
    "    totalsynop_tokenized.extend(allwords_tokenized)\n",
    "    \n",
    "totalvocab_stemmed = []\n",
    "totalvocab_tokenized = []\n",
    "for i in vocabulary:\n",
    "    allwords_stemmed = tokenize_and_stem(i)\n",
    "    totalvocab_stemmed.extend(allwords_stemmed)\n",
    "    \n",
    "    allwords_tokenized = tokenize_only(i)\n",
    "    totalvocab_tokenized.extend(allwords_tokenized)    "
   ]
  },
  {
   "cell_type": "code",
   "execution_count": 373,
   "metadata": {
    "scrolled": false
   },
   "outputs": [
    {
     "name": "stdout",
     "output_type": "stream",
     "text": [
      "         words\n",
      "привет  привет\n",
      "как        как\n",
      "дел       дела\n",
      "пок       пока\n",
      "            vocab\n",
      "пок          пока\n",
      "привет     привет\n",
      "проблем  проблема\n"
     ]
    }
   ],
   "source": [
    "synop_frame = pd.DataFrame({'words': totalsynop_tokenized}, index = totalsynop_stemmed)\n",
    "print (synop_frame)\n",
    "\n",
    "vocab_frame = pd.DataFrame({'vocab': totalvocab_tokenized}, index = totalvocab_stemmed)\n",
    "print (vocab_frame)"
   ]
  },
  {
   "cell_type": "code",
   "execution_count": 246,
   "metadata": {
    "collapsed": true
   },
   "outputs": [],
   "source": [
    "#дальше в токенах ищем слова, которые нужны по словарю и записываем вектор"
   ]
  },
  {
   "cell_type": "code",
   "execution_count": 377,
   "metadata": {},
   "outputs": [
    {
     "name": "stdout",
     "output_type": "stream",
     "text": [
      "[1, 1, 0]\n"
     ]
    }
   ],
   "source": [
    "vector = []\n",
    "\n",
    "for w in totalvocab_stemmed:\n",
    "    if w in totalsynop_stemmed:\n",
    "        vector.append(1)\n",
    "    else:\n",
    "        vector.append(0)\n",
    "print (vector)"
   ]
  }
 ],
 "metadata": {
  "kernelspec": {
   "display_name": "Python 3",
   "language": "python",
   "name": "python3"
  },
  "language_info": {
   "codemirror_mode": {
    "name": "ipython",
    "version": 3
   },
   "file_extension": ".py",
   "mimetype": "text/x-python",
   "name": "python",
   "nbconvert_exporter": "python",
   "pygments_lexer": "ipython3",
   "version": "3.6.3"
  }
 },
 "nbformat": 4,
 "nbformat_minor": 2
}
